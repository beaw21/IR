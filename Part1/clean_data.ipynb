{
 "cells": [
  {
   "cell_type": "code",
   "execution_count": 29,
   "id": "initial_id",
   "metadata": {
    "collapsed": true,
    "ExecuteTime": {
     "end_time": "2023-11-20T08:57:04.999325Z",
     "start_time": "2023-11-20T08:57:04.994132Z"
    }
   },
   "outputs": [],
   "source": [
    "import string\n",
    "\n",
    "import numpy as np\n",
    "import pandas as pd\n",
    "import numpy as np\n",
    "from bs4 import BeautifulSoup\n",
    "from sphinx.util import requests\n"
   ]
  },
  {
   "cell_type": "code",
   "execution_count": 17,
   "outputs": [],
   "source": [
    "def get_and_clean_data():\n",
    "    data = pd.read_csv('/Users/bill/IR/resource/software_developer_united_states_1971_20191023_1.csv')\n",
    "    description = data['job_description']\n",
    "    cleaned_description = description.apply(lambda s: s.translate(str.maketrans('','',string.punctuation + u'\\xa0')))\n",
    "    cleaned_description = cleaned_description.apply(lambda s: s.lower())\n",
    "    cleaned_description = cleaned_description.apply(lambda s: s.translate( str.maketrans(string.whitespace, ' ' * len(string.whitespace),'')))\n",
    "    cleaned_description = cleaned_description.drop_duplicates()\n",
    "    return  cleaned_description"
   ],
   "metadata": {
    "collapsed": false,
    "ExecuteTime": {
     "end_time": "2023-11-20T08:52:55.813264Z",
     "start_time": "2023-11-20T08:52:55.802607Z"
    }
   },
   "id": "52474eefde5e40e6"
  },
  {
   "cell_type": "code",
   "execution_count": 18,
   "outputs": [
    {
     "data": {
      "text/plain": "0       the chosen sr software developer will be part ...\n1       position c lead software developer location mi...\n2       senior software developer hoboken nj starts as...\n3       our client a multinational publishing and educ...\n4       position c lead software developer location ph...\n                              ...                        \n9991    position description  position description  cg...\n9994    job description  researches designs develops a...\n9997    job description  the candidate must be experie...\n9998    please only apply if you do not need sponsorsh...\n9999    company information  solid reputation passiona...\nName: job_description, Length: 7583, dtype: object"
     },
     "execution_count": 18,
     "metadata": {},
     "output_type": "execute_result"
    }
   ],
   "source": [
    "get_and_clean_data()"
   ],
   "metadata": {
    "collapsed": false,
    "ExecuteTime": {
     "end_time": "2023-11-20T08:52:58.265986Z",
     "start_time": "2023-11-20T08:52:55.806368Z"
    }
   },
   "id": "42f5a600dc3d7082"
  },
  {
   "cell_type": "code",
   "execution_count": 19,
   "outputs": [],
   "source": [
    "def simple_tokenize(data):\n",
    "    cleaned_description = data.apply(lambda s: [x.strip() for x in s.split()])\n",
    "    return cleaned_description"
   ],
   "metadata": {
    "collapsed": false,
    "ExecuteTime": {
     "end_time": "2023-11-20T08:52:58.266216Z",
     "start_time": "2023-11-20T08:52:58.263944Z"
    }
   },
   "id": "f7329309d56d85c9"
  },
  {
   "cell_type": "code",
   "execution_count": 20,
   "outputs": [
    {
     "data": {
      "text/plain": "0       [the, chosen, sr, software, developer, will, b...\n1       [position, c, lead, software, developer, locat...\n2       [senior, software, developer, hoboken, nj, sta...\n3       [our, client, a, multinational, publishing, an...\n4       [position, c, lead, software, developer, locat...\n                              ...                        \n9991    [position, description, position, description,...\n9994    [job, description, researches, designs, develo...\n9997    [job, description, the, candidate, must, be, e...\n9998    [please, only, apply, if, you, do, not, need, ...\n9999    [company, information, solid, reputation, pass...\nName: job_description, Length: 7583, dtype: object"
     },
     "execution_count": 20,
     "metadata": {},
     "output_type": "execute_result"
    }
   ],
   "source": [
    "simple_tokenize(data=get_and_clean_data())"
   ],
   "metadata": {
    "collapsed": false,
    "ExecuteTime": {
     "end_time": "2023-11-20T08:53:00.911917Z",
     "start_time": "2023-11-20T08:52:58.267458Z"
    }
   },
   "id": "a7b3cc4ffe5b39b6"
  },
  {
   "cell_type": "code",
   "execution_count": 21,
   "outputs": [],
   "source": [
    "def parse_job_description():\n",
    "    cleaned_description = get_and_clean_data()\n",
    "    cleaned_description = simple_tokenize(cleaned_description)\n",
    "    return cleaned_description"
   ],
   "metadata": {
    "collapsed": false,
    "ExecuteTime": {
     "end_time": "2023-11-20T08:53:00.916230Z",
     "start_time": "2023-11-20T08:53:00.911698Z"
    }
   },
   "id": "e420dd6db5d1e5c4"
  },
  {
   "cell_type": "code",
   "execution_count": 22,
   "outputs": [
    {
     "data": {
      "text/plain": "0       [the, chosen, sr, software, developer, will, b...\n1       [position, c, lead, software, developer, locat...\n2       [senior, software, developer, hoboken, nj, sta...\n3       [our, client, a, multinational, publishing, an...\n4       [position, c, lead, software, developer, locat...\n                              ...                        \n9991    [position, description, position, description,...\n9994    [job, description, researches, designs, develo...\n9997    [job, description, the, candidate, must, be, e...\n9998    [please, only, apply, if, you, do, not, need, ...\n9999    [company, information, solid, reputation, pass...\nName: job_description, Length: 7583, dtype: object"
     },
     "execution_count": 22,
     "metadata": {},
     "output_type": "execute_result"
    }
   ],
   "source": [
    "parse_job_description()"
   ],
   "metadata": {
    "collapsed": false,
    "ExecuteTime": {
     "end_time": "2023-11-20T08:53:03.613550Z",
     "start_time": "2023-11-20T08:53:00.914212Z"
    }
   },
   "id": "592b2311b967e86f"
  },
  {
   "cell_type": "code",
   "execution_count": 23,
   "outputs": [],
   "source": [
    "def count_python_mysql():\n",
    "    parsed_description = parse_job_description()\n",
    "    count_python = parsed_description.apply(lambda s: 'python' in s).sum()\n",
    "    count_mysql = parsed_description.apply(lambda s: 'mysql' in s).sum()\n",
    "    print('python: ' + str(count_python) + ' of ' + str(parsed_description.shape[0]))\n",
    "    print('mysql: ' + str(count_mysql) + ' of ' + str(parsed_description.shape[0]))"
   ],
   "metadata": {
    "collapsed": false,
    "ExecuteTime": {
     "end_time": "2023-11-20T08:53:03.617752Z",
     "start_time": "2023-11-20T08:53:03.614712Z"
    }
   },
   "id": "842db2acf296d9f9"
  },
  {
   "cell_type": "code",
   "execution_count": 24,
   "outputs": [
    {
     "name": "stdout",
     "output_type": "stream",
     "text": [
      "python: 1379 of 7583\n",
      "mysql: 667 of 7583\n"
     ]
    }
   ],
   "source": [
    "count_python_mysql()"
   ],
   "metadata": {
    "collapsed": false,
    "ExecuteTime": {
     "end_time": "2023-11-20T08:53:06.373652Z",
     "start_time": "2023-11-20T08:53:03.617930Z"
    }
   },
   "id": "905ea8c1d206ec86"
  },
  {
   "cell_type": "code",
   "execution_count": 25,
   "outputs": [],
   "source": [
    "def parse_db():\n",
    "    html_doc = requests.get(\"https://db-engines.com/en/ranking\").content\n",
    "    soup = BeautifulSoup(html_doc, 'html.parser')\n",
    "    db_table = soup.find(\"table\", {\"class\": \"dbi\"})\n",
    "    all_db = [''.join(s.find('a').findAll(text=True,recursive=False)).strip() for s in\n",
    "db_table.findAll(\"th\", {\"class\": \"pad-l\"})]\n",
    "    all_db = list(dict.fromkeys(all_db))\n",
    "    db_list = all_db[:10]\n",
    "    db_list = [s.lower() for s in db_list]\n",
    "    db_list = [[x.strip() for x in s.split()] for s in db_list]\n",
    "    return db_list"
   ],
   "metadata": {
    "collapsed": false,
    "ExecuteTime": {
     "end_time": "2023-11-20T08:53:06.379358Z",
     "start_time": "2023-11-20T08:53:06.374668Z"
    }
   },
   "id": "e9ca36a4940c1935"
  },
  {
   "cell_type": "code",
   "execution_count": 26,
   "outputs": [
    {
     "name": "stderr",
     "output_type": "stream",
     "text": [
      "/var/folders/5x/mbw4tfss45b3h4qfg6gpkcx40000gn/T/ipykernel_5008/1158864591.py:5: DeprecationWarning: The 'text' argument to find()-type methods is deprecated. Use 'string' instead.\n",
      "  all_db = [''.join(s.find('a').findAll(text=True,recursive=False)).strip() for s in\n"
     ]
    },
    {
     "data": {
      "text/plain": "[['oracle'],\n ['mysql'],\n ['microsoft', 'sql', 'server'],\n ['postgresql'],\n ['mongodb'],\n ['redis'],\n ['elasticsearch'],\n ['ibm', 'db2'],\n ['sqlite'],\n ['microsoft', 'access']]"
     },
     "execution_count": 26,
     "metadata": {},
     "output_type": "execute_result"
    }
   ],
   "source": [
    "parse_db()"
   ],
   "metadata": {
    "collapsed": false,
    "ExecuteTime": {
     "end_time": "2023-11-20T08:53:18.961598Z",
     "start_time": "2023-11-20T08:53:16.546897Z"
    }
   },
   "id": "9fb011abfad45a79"
  },
  {
   "cell_type": "code",
   "execution_count": 30,
   "outputs": [
    {
     "name": "stderr",
     "output_type": "stream",
     "text": [
      "/var/folders/5x/mbw4tfss45b3h4qfg6gpkcx40000gn/T/ipykernel_5008/1158864591.py:5: DeprecationWarning: The 'text' argument to find()-type methods is deprecated. Use 'string' instead.\n",
      "  all_db = [''.join(s.find('a').findAll(text=True,recursive=False)).strip() for s in\n"
     ]
    },
    {
     "name": "stdout",
     "output_type": "stream",
     "text": [
      "oracle: 1392 of 7583\n",
      "mysql: 667 of 7583\n",
      "microsoft sql server: 868 of 7583\n",
      "postgresql: 261 of 7583\n",
      "mongodb: 296 of 7583\n",
      "redis: 106 of 7583\n",
      "elasticsearch: 161 of 7583\n",
      "ibm db2: 48 of 7583\n",
      "sqlite: 28 of 7583\n",
      "microsoft access: 256 of 7583\n"
     ]
    }
   ],
   "source": [
    "cleaned_db = parse_db()\n",
    "parsed_description = parse_job_description()\n",
    "raw = [None] *  len(cleaned_db)\n",
    "for i, db in enumerate(cleaned_db):\n",
    "    raw[i] = parsed_description.apply(lambda s : np.all([x in s for x in db])).sum()\n",
    "    print(' '.join(db) + ': ' + str(raw[i]) + ' of ' + str(parsed_description.shape[0]))"
   ],
   "metadata": {
    "collapsed": false,
    "ExecuteTime": {
     "end_time": "2023-11-20T08:57:16.684198Z",
     "start_time": "2023-11-20T08:57:11.323203Z"
    }
   },
   "id": "46d65b5eff7fcdc4"
  },
  {
   "cell_type": "code",
   "execution_count": 33,
   "outputs": [
    {
     "name": "stdout",
     "output_type": "stream",
     "text": [
      "oracle + python: 243 of 7583\n",
      "mysql + python: 207 of 7583\n",
      "microsoft sql server + python: 51 of 7583\n",
      "postgresql + python: 90 of 7583\n",
      "mongodb + python: 111 of 7583\n",
      "redis + python: 38 of 7583\n",
      "elasticsearch + python: 73 of 7583\n",
      "ibm db2 + python: 12 of 7583\n",
      "sqlite + python: 7 of 7583\n",
      "microsoft access + python: 28 of 7583\n"
     ]
    }
   ],
   "source": [
    " with_python = [None] * len(cleaned_db)\n",
    "for i , db in enumerate(cleaned_db) :\n",
    "    with_python[i] = parsed_description.apply(lambda s: np.all([x in s for x in db]) and 'python'in s).sum()\n",
    "    print(' '.join(db) + ' + python: ' + str(with_python[i]) + ' of ' +\n",
    "str(parsed_description.shape[0]))"
   ],
   "metadata": {
    "collapsed": false,
    "ExecuteTime": {
     "end_time": "2023-11-20T08:59:16.060946Z",
     "start_time": "2023-11-20T08:59:15.480711Z"
    }
   },
   "id": "472758e3593d1994"
  },
  {
   "cell_type": "code",
   "execution_count": 34,
   "outputs": [
    {
     "name": "stdout",
     "output_type": "stream",
     "text": [
      "oracle + python: 243 of 1392 (17.46%)\n",
      "mysql + python: 207 of 667 (31.03%)\n",
      "microsoft sql server + python: 51 of 868 (5.88%)\n",
      "postgresql + python: 90 of 261 (34.48%)\n",
      "mongodb + python: 111 of 296 (37.5%)\n",
      "redis + python: 38 of 106 (35.85%)\n",
      "elasticsearch + python: 73 of 161 (45.34%)\n",
      "ibm db2 + python: 12 of 48 (25.0%)\n",
      "sqlite + python: 7 of 28 (25.0%)\n",
      "microsoft access + python: 28 of 256 (10.94%)\n"
     ]
    }
   ],
   "source": [
    "for i, db in enumerate(cleaned_db):\n",
    "    print(' '.join(db) + ' + python: ' + str(with_python[i]) + ' of ' + str(raw[i]) + ' (' +\n",
    "str(np.around(with_python[i] / raw[i]*100,2)) + '%)')"
   ],
   "metadata": {
    "collapsed": false,
    "ExecuteTime": {
     "end_time": "2023-11-20T09:00:17.148853Z",
     "start_time": "2023-11-20T09:00:17.133052Z"
    }
   },
   "id": "2bbbbf3f8a71811c"
  },
  {
   "cell_type": "code",
   "execution_count": 38,
   "outputs": [
    {
     "name": "stdout",
     "output_type": "stream",
     "text": [
      "|    | job_description                                                                                                                                                                                                                                                                                                                                                                                                                                                                                                                                                                                                                                                                                                                                                                                                                                                                                                                                                                                                                                                                                                                                                                                                                                                                                                                                                                                                                                                                                                                                                                                                                                                                                                                                                                                                                                                                                                                                                                                                                                                                                                                                                                                                                                                                                                                                                                                                                                                                                                                                                                                                                                                                                                                                                                                                                                                                                                                                                                                                                                                                                                                                                                                                                                                                                                                                                                                                                                                                                                                                                                                                                |\n",
      "|---:|:-------------------------------------------------------------------------------------------------------------------------------------------------------------------------------------------------------------------------------------------------------------------------------------------------------------------------------------------------------------------------------------------------------------------------------------------------------------------------------------------------------------------------------------------------------------------------------------------------------------------------------------------------------------------------------------------------------------------------------------------------------------------------------------------------------------------------------------------------------------------------------------------------------------------------------------------------------------------------------------------------------------------------------------------------------------------------------------------------------------------------------------------------------------------------------------------------------------------------------------------------------------------------------------------------------------------------------------------------------------------------------------------------------------------------------------------------------------------------------------------------------------------------------------------------------------------------------------------------------------------------------------------------------------------------------------------------------------------------------------------------------------------------------------------------------------------------------------------------------------------------------------------------------------------------------------------------------------------------------------------------------------------------------------------------------------------------------------------------------------------------------------------------------------------------------------------------------------------------------------------------------------------------------------------------------------------------------------------------------------------------------------------------------------------------------------------------------------------------------------------------------------------------------------------------------------------------------------------------------------------------------------------------------------------------------------------------------------------------------------------------------------------------------------------------------------------------------------------------------------------------------------------------------------------------------------------------------------------------------------------------------------------------------------------------------------------------------------------------------------------------------------------------------------------------------------------------------------------------------------------------------------------------------------------------------------------------------------------------------------------------------------------------------------------------------------------------------------------------------------------------------------------------------------------------------------------------------------------------------------------------------|\n",
      "|  0 | The chosen Sr. Software Developer will be part of a larger engineering team developing software for Medical Devices used within the Orthopedic Industry. SR. SOFTWARE DEVELOPER WILL BE RESPONSIBLE FOR: Designs, codes, and reviews software Writes unit tests to demonstrate proper software functionality Collaborates with software testers to ensure good test coverage, resolve defects, and mitigate safety hazards Communicates with product management, project managers, technical writers, and medical personnel Design and implementation of feature development including identification of all tasks and the dependencies between tasks, features, and components Provides technical expertise to architects, analysts, and other engineers as input for product design, implementation, and troubleshooting Mentors junior engineers in software development best practices and testing methodologies via code and design review May participate in tool and library selections, development environment improvements, and process refinement EDUCATION AND EXPERIENCE REQUIREMENTS BS in Computer Science or related degree 5+ years of professional software engineering experience 3+ years of current experience developing with C++, and or C# 3+ years of experience working with windows application development 3+ years of experience working with Visual Studio Experience with Meteor, Node.js, Experience with programming in a regulatory environment (medical, automotive, avionics) Experience with Software as a Medical Device (SaMD) and IEC 62304 a big plus Experience with Qt family of application development tools: GUI development using Qt Qt Widgets QML Unit testing with Google Test GUI testing with squish Understanding of BDD/Gherkin executable test cases Experience with PostgreSQL for database development Experience with medical machine control or Healthcare technology is a plus Strong communication skills OTHER Desirable SKILLS AND EXPERIENCE Strong object-oriented design skills Experience writing multi-threaded software Experience working in an Agile development environment About Aerotek: We know that a company's success starts with its employees. We also know that an individual's success starts with the right career opportunity. As a Best of Staffing® Client and Talent leader, Aerotek's people-focused approach yields competitive advantage for our clients and rewarding careers for our contract employees. Since 1983, Aerotek has grown to become a leader in recruiting and staffing services. With more than 250 non-franchised offices, Aerotek's 8,000 internal employees serve more than 300,000 contract employees and 18,000 clients every year. Aerotek is an Allegis Group company, the global leader in talent solutions. Learn more at Aerotek.com. The company is an equal opportunity employer and will consider all applications without regards to race, sex, age, color, religion, national origin, veteran status, disability, sexual orientation, gender identity, genetic information or any characteristic protected by law. If you would like to request a reasonable accommodation, such as the modification or adjustment of the job application process or interviewing process due to a disability, please call 888-237-6835 or email accommodation@aerotek .com for other accommodation options. However, if you have questions about this position, please contact the Recruiter located at the bottom of the job posting. The Recruiter is the sole point of contact for questions about this position. |\n",
      "|  1 | Position:     C# Lead Software Developer Location:     Middletown, NJ Compensation: $90,000 - $110,000 + Excellent Benefits + Paid Relocation Job Description: This Client seeks a Lead Developer to join their team. Tons of opportunity to grow. They just launched a technology practice in Q4, so they now offer technology assistance to clients. Candidate could be from Middletown, NJ (preferable), Philadelphia, PA, or Columbus, OH Top Engineering Firm has an opening for a dynamic and hard-working senior developer to join their Technology practice as a Lead Developer. This individual will oversee all new company-based and client-based development projects, act as the lead developer for all client related software needs and be responsible for streamlining and updating current strategies and processes with the enhancement of new technologies. Qualifications: 5-10 years of relevant work experience as an application developer or any equivalent combination of education, training and experience. Extensive experience in C#, JavaScript, HTML, CSS, SQL, IIS, Zaure, XML, REST, Entity Framework and Visual Studio required. Extensive knowledge and understanding of application life-cycle, full stack development, databases and application services. Microsoft Certified Solutions Developer (MCSD) desirable, but not required. Experience with MCV, Sngular and Bootstrap desirable. Detail oriented with a strong command of design principles. Ability to organize and manage multiple priorities. Strong analytical, interpersonal, writing and verbal communication skills are required. Availability for limited travel as dictated by projects and opportunities.                                                                                                                                                                                                                                                                                                                                                                                                                                                                                                                                                                                                                                                                                                                                                                                                                                                                                                                                                                                                                                                                                                                                                                                                                                                                                                                                                                                                                                                                                                                                                                                                                                                                                                                                                                                                                                                                                                           |\n",
      "|  2 | Senior Software Developer Hoboken, NJ Starts as 9-12 month contract - possibility to extend Required Skills: 5+ years professional experience in software 3-4 years of NodeJS with at least one of HAPI, Express, Sails framework Proficiency of working with Mongo DB Expert hands on work experience with AWS stack (EC2, CloudWatch) Experience with at least one testing framework (Selenium,cucumber, protractor, Karma, mocha etc) Experience with at least one build tool (Grunt, Gulp etc) Experience with GitHub & GitFlow Job Description: Opportunity with a very well-known company Work closely with product owners and teams to lead feature implementation and/or source third party solutions when appropriate. Contribute to standards and best practices around development processes, coding, and peer reviews. Optimize existing systems to improve performance and scalability through service/application tuning and code refactoring. Fully and properly test code to ensure the highest levels of reliability and maintainability.   Please Contact: Henry Baker henry.baker@scom-usa.com https://www.linkedin.com/in/henry-t-baker/   s•com is a leading provider of recruiting and staffing solutions. Part of the Impellam Group family of companies, s•com places top talent in contract, contract-to-hire, project–based and permanent positions. Our specialists apply industry experience to successfully screen and match candidates to client needs, whether for a single project or a long-term position. We offer opportunities in: Engineering  Information Technology/Technical  Marketing & Creative  Telecommunications s•com is an Equal Opportunity Employer - All qualified applicants will receive consideration without regard to race, color, religion, gender, national origin, age, disability, veteran status, or any other factor determined to be unlawful under applicable law. “Employer will not sponsor applicants for work visas for this position.”                                                                                                                                                                                                                                                                                                                                                                                                                                                                                                                                                                                                                                                                                                                                                                                                                                                                                                                                                                                                                                                                                                                                                                                                                                                                                                                                                                                                                                                                                                                                                                                                                    |\n",
      "|  3 | Our client, a multinational publishing and education company, is seeking a Senior Software Developer. Location: Hoboken, NJ Position Type: Contract Job Description: -Work closely with product owners and teams to lead feature implementation and/or source third party solutions when appropriate. -Contribute to standards and best practices around development processes, coding, and peer reviews. -Optimize existing systems to improve performance and scalability through service/application tuning and code refactoring. -Fully and properly test code to ensure the highest levels of reliability and maintainability. -Research and recommend software solutions and tools that help fix inefficiencies in the development process, team collaboration, etc. -Help lead and drive development operations initiatives. -Provide assistance to CM, QA and support personnel as needed to troubleshoot lower environment as well as production issues. -Resolves customer complaints and responds to suggestions for improvements and enhancements. -Participates in the development of software user manuals. -Experience with at least one other DB is a plus (Casandra or SQL) -Hands on experience with server-less architecture / AWS lambda is a plus -Experience with web development (Angular, React) is a plus -Some open source visibility, a Github account or at least a Stackoverflow account or something along the lines would be a plus. Education: -Bachelors                                                                                                                                                                                                                                                                                                                                                                                                                                                                                                                                                                                                                                                                                                                                                                                                                                                                                                                                                                                                                                                                                                                                                                                                                                                                                                                                                                                                                                                                                                                                                                                                                                                                                                                                                                                                                                                                                                                                                                                                                                                                                                                                      |\n",
      "|  4 | Position:     C# Lead Software Developer Location:     Philadelphia, PA Compensation: $90,000 - $110,000 + Excellent Benefits + Paid Relocation Job Description: This Client seeks a Lead Developer to join their team. Tons of opportunity to grow. They just launched a technology practice in Q4, so they now offer technology assistance to clients. Candidate could be from Middletown, NJ (preferable), Philadelphia, PA, or Columbus, OH Top Engineering Firm has an opening for a dynamic and hard-working senior developer to join their Technology practice as a Lead Developer. This individual will oversee all new company-based and client-based development projects, act as the lead developer for all client related software needs and be responsible for streamlining and updating current strategies and processes with the enhancement of new technologies. Qualifications: 5-10 years of relevant work experience as an application developer or any equivalent combination of education, training and experience. Extensive experience in C#, JavaScript, HTML, CSS, SQL, IIS, Zaure, XML, REST, Entity Framework and Visual Studio required. Extensive knowledge and understanding of application life-cycle, full stack development, databases and application services. Microsoft Certified Solutions Developer (MCSD) desirable, but not required. Experience with MCV, Sngular and Bootstrap desirable. Detail oriented with a strong command of design principles. Ability to organize and manage multiple priorities. Strong analytical, interpersonal, writing and verbal communication skills are required. Availability for limited travel as dictated by projects and opportunities.                                                                                                                                                                                                                                                                                                                                                                                                                                                                                                                                                                                                                                                                                                                                                                                                                                                                                                                                                                                                                                                                                                                                                                                                                                                                                                                                                                                                                                                                                                                                                                                                                                                                                                                                                                                                                                                                                                         |\n"
     ]
    }
   ],
   "source": [
    "data = pd.read_csv('/Users/bill/IR/resource/software_developer_united_states_1971_20191023_1.csv')\n",
    "description = data['job_description']\n",
    "cleaned_description = description.apply(lambda s: s.translate(str.maketrans('','',string.punctuation + u'\\xa0')))\n",
    "print(description.head().to_markdown())"
   ],
   "metadata": {
    "collapsed": false,
    "ExecuteTime": {
     "end_time": "2023-11-20T09:14:41.557625Z",
     "start_time": "2023-11-20T09:14:39.938423Z"
    }
   },
   "id": "d8a3db5fcb69fddd"
  },
  {
   "cell_type": "code",
   "execution_count": 39,
   "outputs": [
    {
     "data": {
      "text/plain": "0       The chosen Sr Software Developer will be part ...\n1       Position C Lead Software Developer Location Mi...\n2       Senior Software Developer Hoboken NJ Starts as...\n3       Our client a multinational publishing and educ...\n4       Position C Lead Software Developer Location Ph...\n                              ...                        \n9995    Software Developer – Asheville NC\\n\\nPosition ...\n9996    Business Group Highlights\\n\\nCivilian State an...\n9997    Job Description\\n\\nThe candidate must be exper...\n9998    PLEASE ONLY APPLY IF YOU DO NOT NEED SPONSORSH...\n9999    Company Information\\n\\nSolid reputation passio...\nName: job_description, Length: 10000, dtype: object"
     },
     "execution_count": 39,
     "metadata": {},
     "output_type": "execute_result"
    }
   ],
   "source": [
    "cleaned_description"
   ],
   "metadata": {
    "collapsed": false,
    "ExecuteTime": {
     "end_time": "2023-11-20T09:15:02.093927Z",
     "start_time": "2023-11-20T09:15:02.069629Z"
    }
   },
   "id": "8fc205a5ae90ca39"
  },
  {
   "cell_type": "code",
   "execution_count": null,
   "outputs": [],
   "source": [],
   "metadata": {
    "collapsed": false
   },
   "id": "450b6a2ed6c721e1"
  }
 ],
 "metadata": {
  "kernelspec": {
   "display_name": "Python 3",
   "language": "python",
   "name": "python3"
  },
  "language_info": {
   "codemirror_mode": {
    "name": "ipython",
    "version": 2
   },
   "file_extension": ".py",
   "mimetype": "text/x-python",
   "name": "python",
   "nbconvert_exporter": "python",
   "pygments_lexer": "ipython2",
   "version": "2.7.6"
  }
 },
 "nbformat": 4,
 "nbformat_minor": 5
}
